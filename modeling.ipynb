{
 "cells": [
  {
   "cell_type": "markdown",
   "metadata": {},
   "source": [
    "### Business Problem"
   ]
  },
  {
   "cell_type": "markdown",
   "metadata": {},
   "source": [
    "Telecom Inc., an American telecomunications company, is competing with a an up-start company that has eaten into their majority market share in recent years. To re-gain their market share, Telecom Inc. must first address the issue of customer churn. Telecom Inc. needs a model to help them predict which of customers are likely to churn to they can intervene and save the accounts. They also want to know what factors contribute to churn so they can improve their service to prevent future churn.\n",
    "\n",
    "To evaluate the preformance of their customer churn model, Telecom Inc. will use F1 score because the firm wants to  capture true positives but is also concerned about minimizing false negatives and false positives. False positives are costly because in cases where our model predicts a customer will churn, Telecom Inc. intends to intervene with customer support and discounts. Given the class imbalence (81%), F1 score does a better job evaluating the true performance of our model."
   ]
  },
  {
   "cell_type": "markdown",
   "metadata": {},
   "source": [
    "#### To-do"
   ]
  },
  {
   "cell_type": "markdown",
   "metadata": {},
   "source": [
    "#### Imports"
   ]
  },
  {
   "cell_type": "code",
   "execution_count": 28,
   "metadata": {},
   "outputs": [],
   "source": [
    "import pandas as pd\n",
    "import numpy as np\n",
    "import matplotlib.pyplot as plt\n",
    "%matplotlib inline\n",
    "\n",
    "\n",
    "from sklearn.model_selection import train_test_split, cross_validate, cross_val_score, GridSearchCV\n",
    "from sklearn.linear_model import LogisticRegression\n",
    "from sklearn.metrics import f1_score, accuracy_score, precision_score\n",
    "from sklearn.preprocessing import StandardScaler, OneHotEncoder, OrdinalEncoder\n",
    "from sklearn.tree import DecisionTreeClassifier\n",
    "\n",
    "#Import data\n",
    "df = pd.read_csv(\"data/cleaned_data.csv\",index_col=0)\n",
    "\n",
    "#New imports for our Pipeline workflows\n",
    "from sklearn.pipeline import Pipeline\n",
    "from sklearn.preprocessing import FunctionTransformer\n",
    "from sklearn.compose import ColumnTransformer\n",
    "\n",
    "from sklearn.impute import SimpleImputer"
   ]
  },
  {
   "cell_type": "markdown",
   "metadata": {},
   "source": [
    "#### Select target and features"
   ]
  },
  {
   "cell_type": "code",
   "execution_count": 2,
   "metadata": {},
   "outputs": [],
   "source": [
    "X = df.drop(columns=[\"churn\",\"phone number\"])\n",
    "y = df['churn']"
   ]
  },
  {
   "cell_type": "markdown",
   "metadata": {},
   "source": [
    "#### Train test split"
   ]
  },
  {
   "cell_type": "code",
   "execution_count": 3,
   "metadata": {},
   "outputs": [],
   "source": [
    "X_train, X_test, y_train, y_test = train_test_split(X, y, test_size=0.30, random_state=20)"
   ]
  },
  {
   "cell_type": "markdown",
   "metadata": {},
   "source": [
    "#### Build a dummy model"
   ]
  },
  {
   "cell_type": "code",
   "execution_count": 4,
   "metadata": {},
   "outputs": [],
   "source": [
    "#Imports\n",
    "from sklearn.metrics import plot_confusion_matrix, plot_roc_curve\n",
    "from sklearn.dummy import DummyClassifier"
   ]
  },
  {
   "cell_type": "code",
   "execution_count": 5,
   "metadata": {},
   "outputs": [],
   "source": [
    "#Build our dummy model\n",
    "Dummy_model = DummyClassifier(strategy=\"constant\",constant=1)\n",
    "Dummy_model.fit(X=X_train,y=y_train)\n",
    "Dummy_model_pred = Dummy_model.predict(X_train)"
   ]
  },
  {
   "cell_type": "code",
   "execution_count": 6,
   "metadata": {},
   "outputs": [],
   "source": [
    "#define a function to score our model\n",
    "def model_results(model,X_train,y_train):\n",
    "    plot_confusion_matrix(estimator=model,X=X_train,y_true=y_train)\n",
    "    plot_roc_curve(estimator=model,X=X_train,y=y_train)\n",
    "    print(f'Avg f1 score {np.mean(cross_val_score(estimator=model,X=X_train,y=y_train,cv=5,scoring=\"f1\"))}')\n",
    "    print(f'f1 cross validation scores {cross_val_score(estimator=model,X=X_train,y=y_train,cv=5,scoring=\"f1\")}')"
   ]
  },
  {
   "cell_type": "code",
   "execution_count": 7,
   "metadata": {},
   "outputs": [
    {
     "name": "stdout",
     "output_type": "stream",
     "text": [
      "Avg f1 score 0.255047439480117\n",
      "f1 cross validation scores [0.25420561 0.25420561 0.25746269 0.25468165 0.25468165]\n"
     ]
    },
    {
     "data": {
      "image/png": "[encoded data removed]",
      "text/plain": [
       "<Figure size 432x288 with 2 Axes>"
      ]
     },
     "metadata": {
      "needs_background": "light"
     },
     "output_type": "display_data"
    },
    {
     "data": {
      "image/png": "[encoded data removed]",
      "text/plain": [
       "<Figure size 432x288 with 1 Axes>"
      ]
     },
     "metadata": {
      "needs_background": "light"
     },
     "output_type": "display_data"
    }
   ],
   "source": [
    "#Score our dummy model\n",
    "model_results(model=Dummy_model,X_train=X_train,y_train=y_train)"
   ]
  },
  {
   "cell_type": "markdown",
   "metadata": {},
   "source": [
    "### Decision Tree 1.0\n",
    "- Weighted avg f1 score: 0.938\n",
    "- Major improvement from simple model\n",
    "- We included all our features but many of them had no impact on our results so the next step is to peform another grid search but with just the top 10 features based on feature importance\n",
    "- We have more false negatives than I'd like, maybe this can be addressed later with SMOTE"
   ]
  },
  {
   "cell_type": "markdown",
   "metadata": {},
   "source": [
    "#### Build column transformer and pipeline"
   ]
  },
  {
   "cell_type": "code",
   "execution_count": 8,
   "metadata": {},
   "outputs": [],
   "source": [
    "#Identify numeric columns for scaling\n",
    "num_columns = list(df.select_dtypes(include=['float', 'int']).columns.drop('area code'))\n",
    "#Instantiate column transformer\n",
    "CT_ord = ColumnTransformer(transformers=[\n",
    "    (\"num_columns\",StandardScaler(),num_columns),\n",
    "    (\"ohe\",OneHotEncoder(sparse=False,handle_unknown=\"ignore\"),[\"state\",\"area code\"]),    \n",
    "    (\"ord\",OrdinalEncoder(),['international plan','voice mail plan'])\n",
    "    ]\n",
    "    )"
   ]
  },
  {
   "cell_type": "code",
   "execution_count": 9,
   "metadata": {},
   "outputs": [],
   "source": [
    "#Instantiate a pipeline including the Decision Tree and one without the Decision Tree\n",
    "#With Decision Tree\n",
    "DT_Pipeline_ord = Pipeline([\n",
    "    (\"CT\",CT_ord),\n",
    "    (\"estimator\",DecisionTreeClassifier(random_state=42))\n",
    "])\n",
    "#Without Decision Tree, used for transforming\n",
    "Pipeline_ord_trans = Pipeline([\n",
    "    (\"CT\",CT_ord),\n",
    "])"
   ]
  },
  {
   "cell_type": "markdown",
   "metadata": {},
   "source": [
    "#### Grid search params"
   ]
  },
  {
   "cell_type": "code",
   "execution_count": 10,
   "metadata": {},
   "outputs": [],
   "source": [
    "#Create grid search grid, instantiate grid search, and fit to train data\n",
    "param_grid_pipeline = {'estimator__criterion':['gini','entropy'],'estimator__max_depth':[None,5,6,7,8],'estimator__min_samples_leaf':[1,5,10],'estimator__max_features':[None,10,20,30]}"
   ]
  },
  {
   "cell_type": "markdown",
   "metadata": {},
   "source": [
    "#### Model fitting"
   ]
  },
  {
   "cell_type": "code",
   "execution_count": 11,
   "metadata": {},
   "outputs": [
    {
     "data": {
      "text/plain": [
       "GridSearchCV(cv=5,\n",
       "             estimator=Pipeline(steps=[('CT',\n",
       "                                        ColumnTransformer(transformers=[('num_columns',\n",
       "                                                                         StandardScaler(),\n",
       "                                                                         ['account '\n",
       "                                                                          'length',\n",
       "                                                                          'number '\n",
       "                                                                          'vmail '\n",
       "                                                                          'messages',\n",
       "                                                                          'total '\n",
       "                                                                          'day '\n",
       "                                                                          'minutes',\n",
       "                                                                          'total '\n",
       "                                                                          'day '\n",
       "                                                                          'calls',\n",
       "                                                                          'total '\n",
       "                                                                          'day '\n",
       "                                                                          'charge',\n",
       "                                                                          'total '\n",
       "                                                                          'eve '\n",
       "                                                                          'minutes',\n",
       "                                                                          'total '\n",
       "                                                                          'eve '\n",
       "                                                                          'calls',\n",
       "                                                                          'total '\n",
       "                                                                          'eve '\n",
       "                                                                          'charge',\n",
       "                                                                          'total '\n",
       "                                                                          'night '\n",
       "                                                                          'minutes',\n",
       "                                                                          'total '\n",
       "                                                                          'night '\n",
       "                                                                          'calls',\n",
       "                                                                          'total '\n",
       "                                                                          'night '\n",
       "                                                                          'char...\n",
       "                                                                                       sparse=False),\n",
       "                                                                         ['state',\n",
       "                                                                          'area '\n",
       "                                                                          'code']),\n",
       "                                                                        ('ord',\n",
       "                                                                         OrdinalEncoder(),\n",
       "                                                                         ['international '\n",
       "                                                                          'plan',\n",
       "                                                                          'voice '\n",
       "                                                                          'mail '\n",
       "                                                                          'plan'])])),\n",
       "                                       ('estimator',\n",
       "                                        DecisionTreeClassifier(random_state=42))]),\n",
       "             param_grid={'estimator__criterion': ['gini', 'entropy'],\n",
       "                         'estimator__max_depth': [None, 5, 6, 7, 8],\n",
       "                         'estimator__max_features': [None, 10, 20, 30],\n",
       "                         'estimator__min_samples_leaf': [1, 5, 10]},\n",
       "             scoring='f1_weighted')"
      ]
     },
     "execution_count": 11,
     "metadata": {},
     "output_type": "execute_result"
    }
   ],
   "source": [
    "#Fit our model\n",
    "GS_ord = GridSearchCV(estimator=DT_Pipeline_ord,param_grid=param_grid_pipeline,scoring=\"f1_weighted\",cv=5)\n",
    "GS_ord.fit(X=X_train,y=y_train)"
   ]
  },
  {
   "cell_type": "markdown",
   "metadata": {},
   "source": [
    "#### Model evaluation"
   ]
  },
  {
   "cell_type": "code",
   "execution_count": null,
   "metadata": {},
   "outputs": [],
   "source": [
    "#Best feature combination\n",
    "GS_ord.best_params_"
   ]
  },
  {
   "cell_type": "code",
   "execution_count": null,
   "metadata": {},
   "outputs": [],
   "source": [
    "#To create a readible print of our feature importances we need to collate feature names from various places and pass into a dataframe\n",
    "ohe_column_names = list(GS_ord.best_estimator_.named_steps.CT.named_transformers_.ohe.get_feature_names())\n",
    "feature_names = num_columns\n",
    "feature_names.extend(ohe_column_names)\n",
    "feature_names.extend(['international plan','voice mail plan'])"
   ]
  },
  {
   "cell_type": "code",
   "execution_count": null,
   "metadata": {},
   "outputs": [],
   "source": [
    "#Put feature importance values into dataframe and sort values by feature importance\n",
    "feature_importance_df = pd.DataFrame(data=GS_ord.best_estimator_.named_steps.estimator.feature_importances_,index=feature_names,columns=[\"feature importance\"])\n",
    "feature_importances_sorted = feature_importance_df.sort_values(by='feature importance',ascending=False).head(10)\n",
    "feature_importances_sorted.to_csv('data/feature_importances.csv')\n",
    "feature_importances_sorted"
   ]
  },
  {
   "cell_type": "code",
   "execution_count": 12,
   "metadata": {},
   "outputs": [],
   "source": [
    "#Re-define the function to score our model to accomidate grid search\n",
    "def gs_model_results(model,X_train,y_train):\n",
    "    plot_confusion_matrix(estimator=model,X=X_train,y_true=y_train)\n",
    "    plot_roc_curve(estimator=model,X=X_train,y=y_train)\n",
    "    print(f'Weighted avg f1 score: {round(model.best_score_,3)}')\n",
    "    print()\n",
    "    print(f'Split 1 f1 score: {round(model.cv_results_[\"split0_test_score\"][model.best_index_],3)}')\n",
    "    print(f'Split 2 f1 score: {round(model.cv_results_[\"split1_test_score\"][model.best_index_],3)}')\n",
    "    print(f'Split 3 f1 score: {round(model.cv_results_[\"split2_test_score\"][model.best_index_],3)}')\n",
    "    print(f'Split 4 f1 score: {round(model.cv_results_[\"split3_test_score\"][model.best_index_],3)}')\n",
    "    print(f'Split 5 f1 score: {round(model.cv_results_[\"split4_test_score\"][model.best_index_],3)}')"
   ]
  },
  {
   "cell_type": "code",
   "execution_count": 13,
   "metadata": {},
   "outputs": [
    {
     "name": "stdout",
     "output_type": "stream",
     "text": [
      "Weighted avg f1 score: 0.931\n",
      "\n",
      "Split 1 f1 score: 0.953\n",
      "Split 2 f1 score: 0.943\n",
      "Split 3 f1 score: 0.917\n",
      "Split 4 f1 score: 0.926\n",
      "Split 5 f1 score: 0.916\n"
     ]
    },
    {
     "data": {
      "image/png": "[encoded data removed]",
      "text/plain": [
       "<Figure size 432x288 with 2 Axes>"
      ]
     },
     "metadata": {
      "needs_background": "light"
     },
     "output_type": "display_data"
    },
    {
     "data": {
      "image/png": "[encoded data removed]",
      "text/plain": [
       "<Figure size 432x288 with 1 Axes>"
      ]
     },
     "metadata": {
      "needs_background": "light"
     },
     "output_type": "display_data"
    }
   ],
   "source": [
    "gs_model_results(model=GS_ord,X_train=X_train,y_train=y_train)"
   ]
  },
  {
   "cell_type": "code",
   "execution_count": 14,
   "metadata": {},
   "outputs": [
    {
     "ename": "NameError",
     "evalue": "name 'feature_importance_df' is not defined",
     "output_type": "error",
     "traceback": [
      "\u001b[0;31m---------------------------------------------------------------------------\u001b[0m",
      "\u001b[0;31mNameError\u001b[0m                                 Traceback (most recent call last)",
      "\u001b[0;32m<ipython-input-14-66a3249d1f5c>\u001b[0m in \u001b[0;36m<module>\u001b[0;34m\u001b[0m\n\u001b[0;32m----> 1\u001b[0;31m \u001b[0mlist\u001b[0m\u001b[0;34m(\u001b[0m\u001b[0mfeature_importance_df\u001b[0m\u001b[0;34m.\u001b[0m\u001b[0msort_values\u001b[0m\u001b[0;34m(\u001b[0m\u001b[0mby\u001b[0m\u001b[0;34m=\u001b[0m\u001b[0;34m'feature importance'\u001b[0m\u001b[0;34m,\u001b[0m\u001b[0mascending\u001b[0m\u001b[0;34m=\u001b[0m\u001b[0;32mFalse\u001b[0m\u001b[0;34m)\u001b[0m\u001b[0;34m.\u001b[0m\u001b[0mhead\u001b[0m\u001b[0;34m(\u001b[0m\u001b[0;36m10\u001b[0m\u001b[0;34m)\u001b[0m\u001b[0;34m.\u001b[0m\u001b[0mindex\u001b[0m\u001b[0;34m)\u001b[0m\u001b[0;34m\u001b[0m\u001b[0;34m\u001b[0m\u001b[0m\n\u001b[0m",
      "\u001b[0;31mNameError\u001b[0m: name 'feature_importance_df' is not defined"
     ]
    }
   ],
   "source": [
    "list(feature_importance_df.sort_values(by='feature importance',ascending=False).head(10).index)"
   ]
  },
  {
   "cell_type": "markdown",
   "metadata": {},
   "source": [
    "### Decision Tree 2.0\n",
    "- Limiting the total features used to 15 hurt our f1 score pretty signficantly\n",
    "- Next we'll attempt to address the class imbalence using SMOTE on all the features\n",
    "- If SMOTE is too computationally expensive on all the features, we can revert to limiting features"
   ]
  },
  {
   "cell_type": "code",
   "execution_count": null,
   "metadata": {},
   "outputs": [],
   "source": [
    "#Create grid search grid locking max features at 10 or 15\n",
    "param_grid_pipeline2 = {'estimator__criterion':['gini','entropy'],'estimator__max_depth':[None,5,6,7,8],'estimator__min_samples_leaf':[1,5,10],'estimator__max_features':[10,15]}"
   ]
  },
  {
   "cell_type": "code",
   "execution_count": null,
   "metadata": {},
   "outputs": [],
   "source": [
    "#Instantiate a pipeline including the Decision Tree 2\n",
    "DT_Pipeline_ord2 = Pipeline([\n",
    "    (\"CT\",CT_ord),\n",
    "    (\"estimator\",DecisionTreeClassifier(random_state=42))\n",
    "])\n",
    "\n",
    "#Fit our model\n",
    "GS_ord2 = GridSearchCV(estimator=DT_Pipeline_ord2,param_grid=param_grid_pipeline2,scoring=\"f1_weighted\",cv=5)\n",
    "GS_ord2.fit(X=X_train,y=y_train)"
   ]
  },
  {
   "cell_type": "markdown",
   "metadata": {},
   "source": [
    "#### Model evaluation"
   ]
  },
  {
   "cell_type": "code",
   "execution_count": null,
   "metadata": {},
   "outputs": [],
   "source": [
    "#Best feature combination\n",
    "GS_ord2.best_params_"
   ]
  },
  {
   "cell_type": "code",
   "execution_count": null,
   "metadata": {},
   "outputs": [],
   "source": [
    "gs_model_results(model=GS_ord2,X_train=X_train,y_train=y_train)"
   ]
  },
  {
   "cell_type": "markdown",
   "metadata": {},
   "source": [
    "### Decision Tree 3.0 with smote\n",
    "- This is our best model\n",
    "- Weighted avg f1 score: 0.94\n",
    "- Slight improvement overall compared to model 1.0\n",
    "- Importantly, I reduced the number of false negatives compared with model 1.0 which is very important for a churn model"
   ]
  },
  {
   "cell_type": "markdown",
   "metadata": {},
   "source": [
    "#### Imports"
   ]
  },
  {
   "cell_type": "code",
   "execution_count": 15,
   "metadata": {},
   "outputs": [],
   "source": [
    "#Import smote\n",
    "from imblearn.over_sampling import SMOTE\n",
    "from imblearn.pipeline import Pipeline as imbPipeline"
   ]
  },
  {
   "cell_type": "markdown",
   "metadata": {},
   "source": [
    "#### Intantiate a imblearn version of our pipeline with SMOTE"
   ]
  },
  {
   "cell_type": "code",
   "execution_count": 16,
   "metadata": {},
   "outputs": [],
   "source": [
    "#Instantiate a pipeline including SMOTE\n",
    "#With Decision Tree\n",
    "DT_Pipeline_smote = imbPipeline([\n",
    "    (\"CT\",CT_ord),\n",
    "    (\"SMOTE\",SMOTE(random_state=42)),\n",
    "    (\"estimator\",DecisionTreeClassifier(random_state=42))\n",
    "])"
   ]
  },
  {
   "cell_type": "markdown",
   "metadata": {},
   "source": [
    "#### Grid search params"
   ]
  },
  {
   "cell_type": "code",
   "execution_count": 17,
   "metadata": {},
   "outputs": [],
   "source": [
    "#Create grid search grid, instantiate grid search, and fit to train data\n",
    "#Our baseline minority/majority is 17%. I want to increments up to a ratio of 42%\n",
    "#Testing 3,5 and 10 k neighbors\n",
    "param_grid_pipeline_smote = {'estimator__criterion':['gini','entropy'],\n",
    "                       'estimator__max_depth':[None,5,6,7,8],\n",
    "                       'estimator__min_samples_leaf':[1,5,10],\n",
    "                       'SMOTE__sampling_strategy':[.30,.35,.42,.5],\n",
    "                       'SMOTE__k_neighbors':[3,5,10]\n",
    "                          }"
   ]
  },
  {
   "cell_type": "markdown",
   "metadata": {},
   "source": [
    "#### Model fitting"
   ]
  },
  {
   "cell_type": "code",
   "execution_count": 18,
   "metadata": {},
   "outputs": [
    {
     "data": {
      "text/plain": [
       "GridSearchCV(cv=5,\n",
       "             estimator=Pipeline(steps=[('CT',\n",
       "                                        ColumnTransformer(transformers=[('num_columns',\n",
       "                                                                         StandardScaler(),\n",
       "                                                                         ['account '\n",
       "                                                                          'length',\n",
       "                                                                          'number '\n",
       "                                                                          'vmail '\n",
       "                                                                          'messages',\n",
       "                                                                          'total '\n",
       "                                                                          'day '\n",
       "                                                                          'minutes',\n",
       "                                                                          'total '\n",
       "                                                                          'day '\n",
       "                                                                          'calls',\n",
       "                                                                          'total '\n",
       "                                                                          'day '\n",
       "                                                                          'charge',\n",
       "                                                                          'total '\n",
       "                                                                          'eve '\n",
       "                                                                          'minutes',\n",
       "                                                                          'total '\n",
       "                                                                          'eve '\n",
       "                                                                          'calls',\n",
       "                                                                          'total '\n",
       "                                                                          'eve '\n",
       "                                                                          'charge',\n",
       "                                                                          'total '\n",
       "                                                                          'night '\n",
       "                                                                          'minutes',\n",
       "                                                                          'total '\n",
       "                                                                          'night '\n",
       "                                                                          'calls',\n",
       "                                                                          'total '\n",
       "                                                                          'night '\n",
       "                                                                          'char...\n",
       "                                                                          'plan',\n",
       "                                                                          'voice '\n",
       "                                                                          'mail '\n",
       "                                                                          'plan'])])),\n",
       "                                       ('SMOTE', SMOTE(random_state=42)),\n",
       "                                       ('estimator',\n",
       "                                        DecisionTreeClassifier(random_state=42))]),\n",
       "             param_grid={'SMOTE__k_neighbors': [3, 5, 10],\n",
       "                         'SMOTE__sampling_strategy': [0.3, 0.35, 0.42, 0.5],\n",
       "                         'estimator__criterion': ['gini', 'entropy'],\n",
       "                         'estimator__max_depth': [None, 5, 6, 7, 8],\n",
       "                         'estimator__min_samples_leaf': [1, 5, 10]},\n",
       "             scoring='f1_weighted')"
      ]
     },
     "execution_count": 18,
     "metadata": {},
     "output_type": "execute_result"
    }
   ],
   "source": [
    "#Fit our model\n",
    "GS_smote = GridSearchCV(estimator=DT_Pipeline_smote,param_grid=param_grid_pipeline_smote,scoring=\"f1_weighted\",cv=5)\n",
    "GS_smote.fit(X=X_train,y=y_train)"
   ]
  },
  {
   "cell_type": "code",
   "execution_count": 19,
   "metadata": {},
   "outputs": [
    {
     "data": {
      "text/plain": [
       "{'SMOTE__k_neighbors': 3,\n",
       " 'SMOTE__sampling_strategy': 0.35,\n",
       " 'estimator__criterion': 'gini',\n",
       " 'estimator__max_depth': 6,\n",
       " 'estimator__min_samples_leaf': 5}"
      ]
     },
     "execution_count": 19,
     "metadata": {},
     "output_type": "execute_result"
    }
   ],
   "source": [
    "#Best feature combination\n",
    "GS_smote.best_params_"
   ]
  },
  {
   "cell_type": "code",
   "execution_count": 20,
   "metadata": {},
   "outputs": [
    {
     "name": "stdout",
     "output_type": "stream",
     "text": [
      "Weighted avg f1 score: 0.935\n",
      "\n",
      "Split 1 f1 score: 0.949\n",
      "Split 2 f1 score: 0.938\n",
      "Split 3 f1 score: 0.917\n",
      "Split 4 f1 score: 0.925\n",
      "Split 5 f1 score: 0.948\n"
     ]
    },
    {
     "data": {
      "image/png": "[encoded data removed]",
      "text/plain": [
       "<Figure size 432x288 with 2 Axes>"
      ]
     },
     "metadata": {
      "needs_background": "light"
     },
     "output_type": "display_data"
    },
    {
     "data": {
      "image/png": "[encoded data removed]",
      "text/plain": [
       "<Figure size 432x288 with 1 Axes>"
      ]
     },
     "metadata": {
      "needs_background": "light"
     },
     "output_type": "display_data"
    }
   ],
   "source": [
    "gs_model_results(model=GS_smote,X_train=X_train,y_train=y_train)"
   ]
  },
  {
   "cell_type": "markdown",
   "metadata": {},
   "source": [
    "### Evaluating final model"
   ]
  },
  {
   "cell_type": "code",
   "execution_count": 21,
   "metadata": {},
   "outputs": [],
   "source": [
    "#Save our best model from modeling 3.0\n",
    "best_estimator = GS_smote.best_estimator_.named_steps.estimator\n",
    "#Create a best model pipeline\n",
    "best_model_pipeline = imbPipeline([\n",
    "    (\"CT\",CT_ord),\n",
    "    (\"SMOTE\",GS_smote.best_estimator_.named_steps.SMOTE),\n",
    "    (\"estimator\",best_estimator)\n",
    "])"
   ]
  },
  {
   "cell_type": "code",
   "execution_count": 22,
   "metadata": {},
   "outputs": [
    {
     "data": {
      "text/plain": [
       "Pipeline(steps=[('CT',\n",
       "                 ColumnTransformer(transformers=[('num_columns',\n",
       "                                                  StandardScaler(),\n",
       "                                                  ['account length',\n",
       "                                                   'number vmail messages',\n",
       "                                                   'total day minutes',\n",
       "                                                   'total day calls',\n",
       "                                                   'total day charge',\n",
       "                                                   'total eve minutes',\n",
       "                                                   'total eve calls',\n",
       "                                                   'total eve charge',\n",
       "                                                   'total night minutes',\n",
       "                                                   'total night calls',\n",
       "                                                   'total night charge',\n",
       "                                                   'total intl minutes',\n",
       "                                                   'total intl calls',\n",
       "                                                   'total intl charge',\n",
       "                                                   'customer service calls']),\n",
       "                                                 ('ohe',\n",
       "                                                  OneHotEncoder(handle_unknown='ignore',\n",
       "                                                                sparse=False),\n",
       "                                                  ['state', 'area code']),\n",
       "                                                 ('ord', OrdinalEncoder(),\n",
       "                                                  ['international plan',\n",
       "                                                   'voice mail plan'])])),\n",
       "                ('SMOTE',\n",
       "                 SMOTE(k_neighbors=3, random_state=42, sampling_strategy=0.35)),\n",
       "                ('estimator',\n",
       "                 DecisionTreeClassifier(max_depth=6, min_samples_leaf=5,\n",
       "                                        random_state=42))])"
      ]
     },
     "execution_count": 22,
     "metadata": {},
     "output_type": "execute_result"
    }
   ],
   "source": [
    "#Fit our into our pipeline on the training data\n",
    "best_model_pipeline.fit(X=X_train,y=y_train)"
   ]
  },
  {
   "cell_type": "code",
   "execution_count": 23,
   "metadata": {},
   "outputs": [
    {
     "data": {
      "text/plain": [
       "0.94"
      ]
     },
     "execution_count": 23,
     "metadata": {},
     "output_type": "execute_result"
    }
   ],
   "source": [
    "best_model_pipeline.score(X=X_test,y=y_test)"
   ]
  },
  {
   "cell_type": "code",
   "execution_count": 29,
   "metadata": {},
   "outputs": [],
   "source": [
    "#define a function to score our model on test data\n",
    "def test_results(model,X_test,y_test):\n",
    "    plot_confusion_matrix(estimator=model,X=X_test,y_true=y_test)\n",
    "    plot_roc_curve(estimator=model,X=X_test,y=y_test)\n",
    "    print(f' F1 Score: {f1_score(y_true=y_test,y_pred=(model.predict(X=X_test)))}')\n",
    "    print(f' Precision Score: {precision_score(y_true=y_test,y_pred=(model.predict(X=X_test)))}')"
   ]
  },
  {
   "cell_type": "code",
   "execution_count": 30,
   "metadata": {},
   "outputs": [
    {
     "name": "stdout",
     "output_type": "stream",
     "text": [
      " F1 Score: 0.7810218978102189\n",
      " Precision Score: 0.8106060606060606\n"
     ]
    },
    {
     "data": {
      "image/png": "[encoded data removed]",
      "text/plain": [
       "<Figure size 432x288 with 2 Axes>"
      ]
     },
     "metadata": {
      "needs_background": "light"
     },
     "output_type": "display_data"
    },
    {
     "data": {
      "image/png": "[encoded data removed]",
      "text/plain": [
       "<Figure size 432x288 with 1 Axes>"
      ]
     },
     "metadata": {
      "needs_background": "light"
     },
     "output_type": "display_data"
    }
   ],
   "source": [
    "test_results(model=best_model_pipeline,X_test=X_test,y_test=y_test)"
   ]
  },
  {
   "cell_type": "code",
   "execution_count": null,
   "metadata": {},
   "outputs": [],
   "source": []
  }
 ],
 "metadata": {
  "kernelspec": {
   "display_name": "Python (learn-env)",
   "language": "python",
   "name": "learn-env"
  },
  "language_info": {
   "codemirror_mode": {
    "name": "ipython",
    "version": 3
   },
   "file_extension": ".py",
   "mimetype": "text/x-python",
   "name": "python",
   "nbconvert_exporter": "python",
   "pygments_lexer": "ipython3",
   "version": "3.8.5"
  }
 },
 "nbformat": 4,
 "nbformat_minor": 4
}
